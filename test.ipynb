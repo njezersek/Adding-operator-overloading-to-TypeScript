{
 "cells": [
  {
   "cell_type": "code",
   "execution_count": 17,
   "metadata": {},
   "outputs": [],
   "source": [
    "class P:\n",
    "\tdef __init__(self, x, y):\n",
    "\t\tself.x = x\n",
    "\t\tself.y = y\n",
    "\tdef __repr__(self):\n",
    "\t\treturn 'P(%r, %r)' % (self.x, self.y)\n",
    "\tdef __str__(self):\n",
    "\t\treturn 'P(%s, %s)' % (self.x, self.y)\n",
    "\tdef __add__(self, other):\n",
    "\t\tif isinstance(other, P):\n",
    "\t\t\treturn P(self.x + other.x, self.y + other.y)\n",
    "\t\tif isinstance(other, int):\n",
    "\t\t\treturn P(self.x + other, self.y + other)\n",
    "\tdef __radd__(self, other):\n",
    "\t\tif isinstance(other, P):\n",
    "\t\t\treturn P(self.x + other.x, self.y + other.y)\n",
    "\t\tif isinstance(other, int):\n",
    "\t\t\treturn P(self.x + other, self.y + other)\n",
    "\tdef __sub__(self, other):\n",
    "\t\treturn P(self.x - other.x, self.y - other.y)\n",
    "\tdef __mul__(self, other):\n",
    "\t\treturn P(self.x * other.x, self.y * other.y)\n",
    "\tdef __truediv__(self, other):\n",
    "\t\treturn P(self.x / other.x, self.y / other.y)\n",
    "\tdef __floordiv__(self, other):\n",
    "\t\treturn P(self.x // other.x, self.y // other.y)\n",
    "\tdef __mod__(self, other):\n",
    "\t\treturn P(self.x % other.x, self.y % other.y)\n",
    "\tdef __pow__(self, other):\n",
    "\t\treturn P(self.x ** other.x, self.y ** other.y)\n",
    "\tdef __lshift__(self, other):\n",
    "\t\treturn P(self.x << other.x, self.y << other.y)\n",
    "\tdef __rshift__(self, other):\n",
    "\t\treturn P(self.x >> other.x, self.y >> other.y)\n",
    "\tdef __and__(self, other):\n",
    "\t\treturn P(self.x & other.x, self.y & other.y)\n",
    "\tdef __xor__(self, other):\n",
    "\t\treturn P(self.x ^ other.x, self.y ^ other.y)\n",
    "\tdef __or__(self, other):\n",
    "\t\treturn P(self.x | other.x, self.y | other.y)\n",
    "\tdef __neg__(self):\n",
    "\t\treturn P(-self.x, -self.y)"
   ]
  },
  {
   "cell_type": "code",
   "execution_count": 18,
   "metadata": {},
   "outputs": [],
   "source": [
    "a = P(1,3)\n",
    "b = P(2,4)"
   ]
  },
  {
   "cell_type": "code",
   "execution_count": 19,
   "metadata": {},
   "outputs": [
    {
     "data": {
      "text/plain": [
       "P(2, 4)"
      ]
     },
     "execution_count": 19,
     "metadata": {},
     "output_type": "execute_result"
    }
   ],
   "source": [
    "1+a"
   ]
  }
 ],
 "metadata": {
  "interpreter": {
   "hash": "570feb405e2e27c949193ac68f46852414290d515b0ba6e5d90d076ed2284471"
  },
  "kernelspec": {
   "display_name": "Python 3.8.7 64-bit",
   "language": "python",
   "name": "python3"
  },
  "language_info": {
   "codemirror_mode": {
    "name": "ipython",
    "version": 3
   },
   "file_extension": ".py",
   "mimetype": "text/x-python",
   "name": "python",
   "nbconvert_exporter": "python",
   "pygments_lexer": "ipython3",
   "version": "3.8.7"
  },
  "orig_nbformat": 4
 },
 "nbformat": 4,
 "nbformat_minor": 2
}
